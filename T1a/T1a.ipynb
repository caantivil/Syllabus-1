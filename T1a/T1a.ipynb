{
 "cells": [
  {
   "cell_type": "code",
   "execution_count": 11,
   "metadata": {},
   "outputs": [],
   "source": [
    "class Vehiculo:\n",
    "\n",
    "    def __init__(self, color,km_recorridos,contador_ciudades_visitadas):\n",
    "        self.color = color\n",
    "        self.km_recorridos=km_recorridos\n",
    "        self.contador_ciudades_visitadas=contador_ciudades_visitadas\n",
    "    \n",
    "    \n"
   ]
  },
  {
   "cell_type": "code",
   "execution_count": 12,
   "metadata": {},
   "outputs": [],
   "source": [
    "class bicicleta(Vehiculo):\n",
    "    def __init__(self, vel_prom,kmxrecorrer,color,km_recorridos,contador_ciudades_visitadas):\n",
    "        super().__init__(color,km_recorridos,contador_ciudades_visitadas)\n",
    "        self.vel_prom=30\n",
    "        self.kmxrecorrer=1000\n",
    "    \n",
    "    "
   ]
  },
  {
   "cell_type": "code",
   "execution_count": 13,
   "metadata": {},
   "outputs": [],
   "source": [
    "class auto(Vehiculo):\n",
    "    def __init__(self, vel_prom,kmxrecorrer,color,km_recorridos,contador_ciudades_visitadas):\n",
    "        super().__init__( color,km_recorridos,contador_ciudades_visitadas)\n",
    "        self.vel_prom=80\n",
    "        self.kmxrecorrer=1500"
   ]
  },
  {
   "cell_type": "code",
   "execution_count": 14,
   "metadata": {},
   "outputs": [],
   "source": [
    "carlos=auto(0,3,4,5,5)"
   ]
  },
  {
   "cell_type": "code",
   "execution_count": 17,
   "metadata": {},
   "outputs": [
    {
     "data": {
      "text/plain": [
       "80"
      ]
     },
     "execution_count": 17,
     "metadata": {},
     "output_type": "execute_result"
    }
   ],
   "source": [
    "carlos.vel_prom"
   ]
  },
  {
   "cell_type": "code",
   "execution_count": null,
   "metadata": {},
   "outputs": [],
   "source": []
  }
 ],
 "metadata": {
  "kernelspec": {
   "display_name": "Python 3",
   "language": "python",
   "name": "python3"
  },
  "language_info": {
   "codemirror_mode": {
    "name": "ipython",
    "version": 3
   },
   "file_extension": ".py",
   "mimetype": "text/x-python",
   "name": "python",
   "nbconvert_exporter": "python",
   "pygments_lexer": "ipython3",
   "version": "3.8.5"
  }
 },
 "nbformat": 4,
 "nbformat_minor": 4
}
